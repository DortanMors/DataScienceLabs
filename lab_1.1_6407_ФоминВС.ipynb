{
 "cells": [
  {
   "cell_type": "markdown",
   "metadata": {},
   "source": [
    "# Лабораторная работа №1\n",
    "\n",
    "**Требования:**\n",
    "* Python >= 3.X\n",
    "\n",
    "Лабораторную работу необходимо выполнять в данном шаблоне. Результатом работы будет являться файл (с измененным именем), который необходимо выложить в Moodle.\n",
    "\n",
    "**Важно!!!** Имя файлу задавайте по следующему шаблону **lab_1.1_Группа_ФамилияИО.ipynb**. Например: если Вас зовут Иванов Иван Иванович, и Вы обучаетесь в группе 6207_010302D, то имя файла будет выглядеть так **lab_1.1_6207_010302D_ИвановИИ.ipynb**.\n",
    "\n",
    "P.S. модулями (библиотеками) пользоваться запрещено!"
   ]
  },
  {
   "cell_type": "markdown",
   "metadata": {},
   "source": [
    "### Задача № 1\n",
    "\n",
    "Числа Фибоначчи - это такая последовательность, в которой первые два числа равны 0 и 1 соответствено, а каждый последующий член является суммой двух предыдущих членов.\n",
    "\n",
    "Начало последовательности выглядит следующим образом:\n",
    "\n",
    "| Индекс | Значение |\n",
    "| --- | --- |\n",
    "| 0 | 0 |\n",
    "| 1 | 1 |\n",
    "| 2 | 1 |\n",
    "| 3 | 2 |\n",
    "| 4 | 3 |\n",
    "| 5 | 5 |\n",
    "| 6 | 8 |\n",
    "| 7 | 13 |\n",
    "| 8 | 21 |\n",
    "| ... | ... |\n",
    "\n",
    "Более строго последовательность можно задать рекуррентным  соотношением:\n",
    "\n",
    "$$F_0 = 0,\\quad F_1 = 1,\\quad F_i = F_{i-1} + F_{i-2}.$$\n",
    "\n",
    "Напишите алгоритм генерации и вывода с n-го по k-й элементов данной числовой последовательности. Хранить элементы не надо, их необходимо только вывести (используйте `print(...)`).\n",
    "\n",
    "Пример вывода для `n = 2` и `k = 8`:\n",
    "\n",
    "`1`\n",
    "\n",
    "`2`\n",
    "\n",
    "`3`\n",
    "\n",
    "`5`\n",
    "\n",
    "`8`\n",
    "\n",
    "`13`\n",
    "\n",
    "`21`"
   ]
  },
  {
   "cell_type": "code",
   "execution_count": 35,
   "metadata": {
    "ExecuteTime": {
     "end_time": "2024-02-29T23:00:38.893175Z",
     "start_time": "2024-02-29T23:00:38.891246Z"
    }
   },
   "outputs": [],
   "source": [
    "# Просто выполните данную ячейку. n и k уже заданы,\n",
    "# используйте их при постоении вашего алгоритма\n",
    "n = 8\n",
    "k = 30"
   ]
  },
  {
   "cell_type": "markdown",
   "metadata": {},
   "source": [
    "#### Решение"
   ]
  },
  {
   "cell_type": "code",
   "execution_count": 36,
   "metadata": {
    "ExecuteTime": {
     "end_time": "2024-02-29T23:00:38.912085Z",
     "start_time": "2024-02-29T23:00:38.905120Z"
    }
   },
   "outputs": [
    {
     "name": "stdout",
     "output_type": "stream",
     "text": [
      "21\n",
      "34\n",
      "55\n",
      "89\n",
      "144\n",
      "233\n",
      "377\n",
      "610\n",
      "987\n",
      "1597\n",
      "2584\n",
      "4181\n",
      "6765\n",
      "10946\n",
      "17711\n",
      "28657\n",
      "46368\n",
      "75025\n",
      "121393\n",
      "196418\n",
      "317811\n",
      "514229\n",
      "832040\n"
     ]
    }
   ],
   "source": [
    "previous_element = 0\n",
    "current_element = 1\n",
    "\n",
    "if n == 0:\n",
    "    print(0)\n",
    "for i in range(1, k + 1):\n",
    "    if i >= n:\n",
    "        print(current_element)\n",
    "    previous_temp = previous_element\n",
    "    previous_element = current_element\n",
    "    current_element = previous_temp + current_element"
   ]
  },
  {
   "cell_type": "markdown",
   "metadata": {},
   "source": [
    "### Задача № 2\n",
    "\n",
    "Скопируйте и модифицируйте код из первой задачи таким образом, чтобы четные (по значению) элементы при выводе были заменены на отрицательное значение квадрата их индекса.\n",
    "\n",
    "Аналогично первой задаче, каждый элемент должен быть выведен в отдельной строке.\n",
    "\n",
    "Пример вывода для `n = 2` и `k = 8`:\n",
    "\n",
    "`1`\n",
    "\n",
    "`-9`\n",
    "\n",
    "`3`\n",
    "\n",
    "`5`\n",
    "\n",
    "`-36`\n",
    "\n",
    "`13`\n",
    "\n",
    "`21`"
   ]
  },
  {
   "cell_type": "markdown",
   "metadata": {},
   "source": [
    "#### Решение"
   ]
  },
  {
   "cell_type": "code",
   "execution_count": 37,
   "metadata": {
    "ExecuteTime": {
     "end_time": "2024-02-29T23:00:38.921456Z",
     "start_time": "2024-02-29T23:00:38.917617Z"
    }
   },
   "outputs": [
    {
     "name": "stdout",
     "output_type": "stream",
     "text": [
      "21\n",
      "-81\n",
      "55\n",
      "89\n",
      "-144\n",
      "233\n",
      "377\n",
      "-225\n",
      "987\n",
      "1597\n",
      "-324\n",
      "4181\n",
      "6765\n",
      "-441\n",
      "17711\n",
      "28657\n",
      "-576\n",
      "75025\n",
      "121393\n",
      "-729\n",
      "317811\n",
      "514229\n",
      "-900\n"
     ]
    }
   ],
   "source": [
    "previous_element = 0\n",
    "current_element = 1\n",
    "\n",
    "if n == 0:\n",
    "    print(0)\n",
    "for i in range(1, k + 1):\n",
    "    if i >= n:\n",
    "        if current_element % 2 == 0:\n",
    "            # чётный элемент\n",
    "            print(- i ** 2)\n",
    "        else:\n",
    "            print(current_element)\n",
    "    previous_temp = previous_element\n",
    "    previous_element = current_element\n",
    "    current_element = previous_temp + current_element"
   ]
  },
  {
   "cell_type": "markdown",
   "metadata": {},
   "source": [
    "### Задача № 3\n",
    "\n",
    "Посчитайте сумму элементов полученной на предыдущем шаге последовательности (и снова копипаст алгоритма вам в помощь), найдите значение и индекс максимального и минимального элементов.\n",
    "\n",
    "Пример вывода для `n = 2` и `k = 8`:\n",
    "\n",
    "`Sum: -2`\n",
    "\n",
    "`Max: 21, Index: 8`\n",
    "\n",
    "`Min: -36, Index: 6`"
   ]
  },
  {
   "cell_type": "markdown",
   "metadata": {},
   "source": [
    "#### Решение"
   ]
  },
  {
   "cell_type": "code",
   "execution_count": 38,
   "metadata": {
    "ExecuteTime": {
     "end_time": "2024-02-29T23:00:38.931085Z",
     "start_time": "2024-02-29T23:00:38.922785Z"
    }
   },
   "outputs": [
    {
     "name": "stdout",
     "output_type": "stream",
     "text": [
      "Sum: 1085711\n",
      "Max: 514229, Index: 29\n",
      "Min: -900, Index: 30\n"
     ]
    }
   ],
   "source": [
    "previous_element = 0\n",
    "current_element = 1\n",
    "max_num = 0\n",
    "maxI = 0\n",
    "min_num = 0\n",
    "minI = 0\n",
    "sum_num = 0\n",
    "\n",
    "if n == 0:\n",
    "    print(0)\n",
    "for i in range(1, k + 1):\n",
    "    if i >= n:\n",
    "        actual_element = - i ** 2 if current_element % 2 == 0 else current_element\n",
    "        sum_num += actual_element\n",
    "        if actual_element < min_num:\n",
    "            minI = i\n",
    "            min_num = actual_element\n",
    "        if actual_element > max_num:\n",
    "            maxI = i\n",
    "            max_num = actual_element\n",
    "    previous_temp = previous_element\n",
    "    previous_element = current_element\n",
    "    current_element = previous_temp + current_element\n",
    "\n",
    "print('Sum:',sum_num)\n",
    "print(f'Max: {str(max_num)}, Index: {str(maxI)}')\n",
    "print(f'Min: {str(min_num)}, Index: {str(minI)}')"
   ]
  },
  {
   "cell_type": "markdown",
   "metadata": {},
   "source": [
    "### Задача № 4\n",
    "\n",
    "Скопируйте и модифицируйте код из первой задачи. Выведите только те элементы последовательности, у которых сумма цифр делится на 3 без остатка.\n",
    "\n",
    "Аналогично первой задаче, каждый элемент должен быть выведен в отдельной строке.\n",
    "\n",
    "Пример вывода для `n = 2` и `k = 8`:\n",
    "\n",
    "`3`\n",
    "\n",
    "`21`"
   ]
  },
  {
   "cell_type": "markdown",
   "metadata": {},
   "source": [
    "#### Решение"
   ]
  },
  {
   "cell_type": "code",
   "execution_count": 39,
   "metadata": {
    "ExecuteTime": {
     "end_time": "2024-02-29T23:00:38.944654Z",
     "start_time": "2024-02-29T23:00:38.931877Z"
    }
   },
   "outputs": [
    {
     "name": "stdout",
     "output_type": "stream",
     "text": [
      "21\n",
      "144\n",
      "987\n",
      "6765\n",
      "46368\n",
      "317811\n"
     ]
    }
   ],
   "source": [
    "previous_element = 0\n",
    "current_element = 1\n",
    "\n",
    "if n == 0:\n",
    "    print(0)\n",
    "for i in range(1, k + 1):\n",
    "    if i >= n:\n",
    "        if current_element % 3 == 0:\n",
    "            print(current_element)\n",
    "    previous_temp = previous_element\n",
    "    previous_element = current_element\n",
    "    current_element = previous_temp + current_element"
   ]
  }
 ],
 "metadata": {
  "kernelspec": {
   "display_name": "Python 3",
   "language": "python",
   "name": "python3"
  },
  "language_info": {
   "codemirror_mode": {
    "name": "ipython",
    "version": 3
   },
   "file_extension": ".py",
   "mimetype": "text/x-python",
   "name": "python",
   "nbconvert_exporter": "python",
   "pygments_lexer": "ipython3",
   "version": "3.7.3"
  }
 },
 "nbformat": 4,
 "nbformat_minor": 4
}
