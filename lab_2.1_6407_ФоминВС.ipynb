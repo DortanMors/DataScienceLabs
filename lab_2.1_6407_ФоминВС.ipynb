{
 "cells": [
  {
   "cell_type": "markdown",
   "metadata": {},
   "source": [
    "# Лабораторная работа №3\n",
    "\n",
    "В рамках данной лабораторной работы вы проведете разведочный анализ данных.\n",
    "\n",
    "**Требования:**\n",
    "* Python >= 3.X\n",
    "* Библиотеки `pandas`, `matplotlib`.\n",
    "\n",
    "**Входные данные:**\n",
    "* Файл sales.csv, в котором содержится информация о видеоиграх и их продажах. Каждая игра описана следующими признаками:\n",
    "    1. `Rank` - рейтинг игры.    \n",
    "    2. `Name` - название игры.    \n",
    "    3. `Platform` - платформа (т.е. PC, PS4, и т.д.).    \n",
    "    4. `Year` - год выпуска игры.    \n",
    "    5. `Genre` - жанр игры.    \n",
    "    6. `Publisher` - Publisher of the game.    \n",
    "    7. `NA_Sales` - объем продаж в северной Америке (млн).    \n",
    "    8. `EU_Sales` - объем продаж в Европе (млн).    \n",
    "    9. `JP_Sales` - объем продаж в Японии (млн).    \n",
    "    10. `Other_Sales` - объем продаж в остальном мире (млн).    \n",
    "    11. `Global_Sales` - суммарные продажи в мире (млн).\n",
    "\n",
    "Лабораторную работу необходимо выполнять в данном шаблоне. Результатом работы будет являться файл (с измененным именем), который необходимо выложить в Moodle.\n",
    "\n",
    "**Важно!!!** Имя файлу задавайте по следующему шаблону **lab_2.1_Группа_ФамилияИО.ipynb**. Например: если Вас зовут Иванов Иван Иванович, и Вы обучаетесь в группе 6207_010302D, то имя файла будет выглядеть так **lab_2.1_6207_010302D_ИвановИИ.ipynb**."
   ]
  },
  {
   "cell_type": "markdown",
   "metadata": {},
   "source": [
    "#### Сделайте необходимые импорты:"
   ]
  },
  {
   "cell_type": "code",
   "execution_count": 2,
   "metadata": {
    "ExecuteTime": {
     "end_time": "2024-03-01T00:01:59.440701Z",
     "start_time": "2024-03-01T00:01:58.951606Z"
    }
   },
   "outputs": [],
   "source": [
    "import pandas as pd\n",
    "import matplotlib.pyplot as plt"
   ]
  },
  {
   "cell_type": "markdown",
   "metadata": {},
   "source": [
    "#### Загрузите данные в `pandas.DataFrame` и выведите первые и последние 15 строк."
   ]
  },
  {
   "cell_type": "code",
   "execution_count": 3,
   "metadata": {
    "ExecuteTime": {
     "end_time": "2024-03-01T00:02:02.577898Z",
     "start_time": "2024-03-01T00:02:02.552178Z"
    }
   },
   "outputs": [
    {
     "name": "stdout",
     "output_type": "stream",
     "text": [
      "Первые 15 строк данных:\n",
      "    Rank                         Name Platform    Year         Genre  \\\n",
      "0      1                   Wii Sports      Wii  2006.0        Sports   \n",
      "1      2            Super Mario Bros.      NES  1985.0      Platform   \n",
      "2      3               Mario Kart Wii      Wii  2008.0        Racing   \n",
      "3      4            Wii Sports Resort      Wii  2009.0        Sports   \n",
      "4      5     Pokemon Red/Pokemon Blue       GB  1996.0  Role-Playing   \n",
      "5      6                       Tetris       GB  1989.0        Puzzle   \n",
      "6      7        New Super Mario Bros.       DS  2006.0      Platform   \n",
      "7      8                     Wii Play      Wii  2006.0          Misc   \n",
      "8      9    New Super Mario Bros. Wii      Wii  2009.0      Platform   \n",
      "9     10                    Duck Hunt      NES  1984.0       Shooter   \n",
      "10    11                   Nintendogs       DS  2005.0    Simulation   \n",
      "11    12                Mario Kart DS       DS  2005.0        Racing   \n",
      "12    13  Pokemon Gold/Pokemon Silver       GB  1999.0  Role-Playing   \n",
      "13    14                      Wii Fit      Wii  2007.0        Sports   \n",
      "14    15                 Wii Fit Plus      Wii  2009.0        Sports   \n",
      "\n",
      "   Publisher  NA_Sales  EU_Sales  JP_Sales  Other_Sales  Global_Sales  \n",
      "0   Nintendo     41.49     29.02      3.77         8.46         82.74  \n",
      "1   Nintendo     29.08      3.58      6.81         0.77         40.24  \n",
      "2   Nintendo     15.85     12.88      3.79         3.31         35.82  \n",
      "3   Nintendo     15.75     11.01      3.28         2.96         33.00  \n",
      "4   Nintendo     11.27      8.89     10.22         1.00         31.37  \n",
      "5   Nintendo     23.20      2.26      4.22         0.58         30.26  \n",
      "6   Nintendo     11.38      9.23      6.50         2.90         30.01  \n",
      "7   Nintendo     14.03      9.20      2.93         2.85         29.02  \n",
      "8   Nintendo     14.59      7.06      4.70         2.26         28.62  \n",
      "9   Nintendo     26.93      0.63      0.28         0.47         28.31  \n",
      "10  Nintendo      9.07     11.00      1.93         2.75         24.76  \n",
      "11  Nintendo      9.81      7.57      4.13         1.92         23.42  \n",
      "12  Nintendo      9.00      6.18      7.20         0.71         23.10  \n",
      "13  Nintendo      8.94      8.03      3.60         2.15         22.72  \n",
      "14  Nintendo      9.09      8.59      2.53         1.79         22.00  \n",
      "\n",
      "Последние 15 строк данных:\n",
      "        Rank                                               Name Platform  \\\n",
      "16583  16586                                     Carmageddon 64      N64   \n",
      "16584  16587                                   Bust-A-Move 3000       GC   \n",
      "16585  16588                                             Breach       PC   \n",
      "16586  16589                     Secret Files 2: Puritas Cordis       DS   \n",
      "16587  16590                           Mezase!! Tsuri Master DS       DS   \n",
      "16588  16591                                   Mega Brain Boost       DS   \n",
      "16589  16592  Chou Ezaru wa Akai Hana: Koi wa Tsuki ni Shiru...      PSV   \n",
      "16590  16593  Eiyuu Densetsu: Sora no Kiseki Material Collec...      PSP   \n",
      "16591  16594                                Myst IV: Revelation       PC   \n",
      "16592  16595                                           Plushees       DS   \n",
      "16593  16596                 Woody Woodpecker in Crazy Castle 5      GBA   \n",
      "16594  16597                      Men in Black II: Alien Escape       GC   \n",
      "16595  16598   SCORE International Baja 1000: The Official Game      PS2   \n",
      "16596  16599                                         Know How 2       DS   \n",
      "16597  16600                                   Spirits & Spells      GBA   \n",
      "\n",
      "         Year         Genre              Publisher  NA_Sales  EU_Sales  \\\n",
      "16583  1999.0        Action     Virgin Interactive      0.01      0.00   \n",
      "16584  2003.0        Puzzle                Ubisoft      0.01      0.00   \n",
      "16585  2011.0       Shooter              Destineer      0.01      0.00   \n",
      "16586  2009.0     Adventure            Deep Silver      0.00      0.01   \n",
      "16587  2009.0        Sports            Hudson Soft      0.00      0.00   \n",
      "16588  2008.0        Puzzle  Majesco Entertainment      0.01      0.00   \n",
      "16589  2016.0        Action        dramatic create      0.00      0.00   \n",
      "16590  2007.0  Role-Playing     Falcom Corporation      0.00      0.00   \n",
      "16591  2004.0     Adventure                Ubisoft      0.01      0.00   \n",
      "16592  2008.0    Simulation              Destineer      0.01      0.00   \n",
      "16593  2002.0      Platform                  Kemco      0.01      0.00   \n",
      "16594  2003.0       Shooter             Infogrames      0.01      0.00   \n",
      "16595  2008.0        Racing             Activision      0.00      0.00   \n",
      "16596  2010.0        Puzzle               7G//AMES      0.00      0.01   \n",
      "16597  2003.0      Platform                Wanadoo      0.01      0.00   \n",
      "\n",
      "       JP_Sales  Other_Sales  Global_Sales  \n",
      "16583      0.00          0.0          0.01  \n",
      "16584      0.00          0.0          0.01  \n",
      "16585      0.00          0.0          0.01  \n",
      "16586      0.00          0.0          0.01  \n",
      "16587      0.01          0.0          0.01  \n",
      "16588      0.00          0.0          0.01  \n",
      "16589      0.01          0.0          0.01  \n",
      "16590      0.01          0.0          0.01  \n",
      "16591      0.00          0.0          0.01  \n",
      "16592      0.00          0.0          0.01  \n",
      "16593      0.00          0.0          0.01  \n",
      "16594      0.00          0.0          0.01  \n",
      "16595      0.00          0.0          0.01  \n",
      "16596      0.00          0.0          0.01  \n",
      "16597      0.00          0.0          0.01  \n"
     ]
    }
   ],
   "source": [
    "df = pd.read_csv('sales.csv')\n",
    "\n",
    "print(\"Первые 15 строк данных:\")\n",
    "print(df.head(15))\n",
    "print(\"\\nПоследние 15 строк данных:\")\n",
    "print(df.tail(15))"
   ]
  },
  {
   "cell_type": "markdown",
   "metadata": {},
   "source": [
    "#### Проверьте форму (`shape`) данных. Сколько всего объектов в датасете?"
   ]
  },
  {
   "cell_type": "code",
   "execution_count": 4,
   "metadata": {
    "ExecuteTime": {
     "end_time": "2024-03-01T00:02:20.952655Z",
     "start_time": "2024-03-01T00:02:20.949681Z"
    }
   },
   "outputs": [
    {
     "name": "stdout",
     "output_type": "stream",
     "text": [
      "Форма данных: (16598, 11)\n",
      "Общее количество объектов в датасете: 16598\n"
     ]
    }
   ],
   "source": [
    "print(\"Форма данных:\", df.shape)\n",
    "\n",
    "# Определение общего числа объектов в датасете\n",
    "total_objects = df.shape[0]\n",
    "print(\"Общее количество объектов в датасете:\", total_objects)"
   ]
  },
  {
   "cell_type": "markdown",
   "metadata": {},
   "source": [
    "Ответ: <span style=\"color:red\">#впишите сюда</span>"
   ]
  },
  {
   "cell_type": "markdown",
   "metadata": {},
   "source": [
    "#### Какие типы имеют каждый из признаков (см. `pandas.DataFrame.info`)?"
   ]
  },
  {
   "cell_type": "code",
   "execution_count": 5,
   "metadata": {
    "ExecuteTime": {
     "end_time": "2024-03-01T00:02:37.934420Z",
     "start_time": "2024-03-01T00:02:37.924152Z"
    }
   },
   "outputs": [
    {
     "name": "stdout",
     "output_type": "stream",
     "text": [
      "<class 'pandas.core.frame.DataFrame'>\n",
      "RangeIndex: 16598 entries, 0 to 16597\n",
      "Data columns (total 11 columns):\n",
      " #   Column        Non-Null Count  Dtype  \n",
      "---  ------        --------------  -----  \n",
      " 0   Rank          16598 non-null  int64  \n",
      " 1   Name          16598 non-null  object \n",
      " 2   Platform      16598 non-null  object \n",
      " 3   Year          16327 non-null  float64\n",
      " 4   Genre         16598 non-null  object \n",
      " 5   Publisher     16540 non-null  object \n",
      " 6   NA_Sales      16598 non-null  float64\n",
      " 7   EU_Sales      16598 non-null  float64\n",
      " 8   JP_Sales      16598 non-null  float64\n",
      " 9   Other_Sales   16598 non-null  float64\n",
      " 10  Global_Sales  16598 non-null  float64\n",
      "dtypes: float64(6), int64(1), object(4)\n",
      "memory usage: 1.4+ MB\n",
      "None\n"
     ]
    }
   ],
   "source": [
    "print(df.info())"
   ]
  },
  {
   "cell_type": "markdown",
   "metadata": {},
   "source": [
    "Ответ: <span style=\"color:red\">#впишите сюда</span>"
   ]
  },
  {
   "cell_type": "markdown",
   "metadata": {},
   "source": [
    "#### Каковы максимальный и средний объем продаж во всем мире (см. `pandas.DataFrame.describe`)?"
   ]
  },
  {
   "cell_type": "code",
   "execution_count": 7,
   "metadata": {
    "ExecuteTime": {
     "end_time": "2024-03-01T00:04:49.750603Z",
     "start_time": "2024-03-01T00:04:49.745715Z"
    }
   },
   "outputs": [
    {
     "name": "stdout",
     "output_type": "stream",
     "text": [
      "Максимальный объем продаж во всем мире: 82.74\n",
      "Средний объем продаж во всем мире: 0.5374406555006628\n"
     ]
    }
   ],
   "source": [
    "global_sales_stats = df['Global_Sales'].describe()\n",
    "\n",
    "max_global_sales = global_sales_stats['max']\n",
    "mean_global_sales = global_sales_stats['mean']\n",
    "\n",
    "print(\"Максимальный объем продаж во всем мире:\", max_global_sales)\n",
    "print(\"Средний объем продаж во всем мире:\", mean_global_sales)\n"
   ]
  },
  {
   "cell_type": "markdown",
   "metadata": {},
   "source": [
    "Ответ: <span style=\"color:red\">#впишите сюда</span>"
   ]
  },
  {
   "cell_type": "markdown",
   "metadata": {},
   "source": [
    "#### Оцените количество пропусков по каждому из признаков. Для числовых признаков заполните пропуски медианным значением, для прочих признаков удаляйте строки."
   ]
  },
  {
   "cell_type": "code",
   "execution_count": null,
   "metadata": {},
   "outputs": [],
   "source": [
    "# вставить код сюда"
   ]
  },
  {
   "cell_type": "markdown",
   "metadata": {},
   "source": [
    "#### Постройте круговую диаграмму количества игр в разрезе жанров. Подпишите каждый сектор. Какой жанр самый популярный?"
   ]
  },
  {
   "cell_type": "code",
   "execution_count": null,
   "metadata": {},
   "outputs": [],
   "source": [
    "# вставить код сюда"
   ]
  },
  {
   "cell_type": "markdown",
   "metadata": {},
   "source": [
    "Ответ: <span style=\"color:red\">#впишите сюда</span>"
   ]
  },
  {
   "cell_type": "markdown",
   "metadata": {},
   "source": [
    "#### Постройте столбчатую диаграмму количества игр в разрезе игровых платформ. Столбцы должны идти в порядке убывания количества игр. Под какую платформу выпустили больше всего игр?"
   ]
  },
  {
   "cell_type": "code",
   "execution_count": null,
   "metadata": {},
   "outputs": [],
   "source": [
    "# вставить код сюда"
   ]
  },
  {
   "cell_type": "markdown",
   "metadata": {},
   "source": [
    "Ответ: <span style=\"color:red\">#впишите сюда</span>"
   ]
  },
  {
   "cell_type": "markdown",
   "metadata": {},
   "source": [
    "#### Постройте столбчатую диаграмму количества игр по годам. Столбцы должны идти в хронологическом порядке. Какая пятилетка была самой удачной для игростроя?"
   ]
  },
  {
   "cell_type": "code",
   "execution_count": null,
   "metadata": {},
   "outputs": [],
   "source": [
    "# вставить код сюда"
   ]
  },
  {
   "cell_type": "markdown",
   "metadata": {},
   "source": [
    "Ответ: <span style=\"color:red\">#впишите сюда</span>"
   ]
  },
  {
   "cell_type": "markdown",
   "metadata": {},
   "source": [
    "#### Постройте столбчатую диаграмму общих доходов игровой индустрии по годам. Столбцы должны идти в хронологическом порядке. Какой год был самым прибыльным?"
   ]
  },
  {
   "cell_type": "code",
   "execution_count": null,
   "metadata": {},
   "outputs": [],
   "source": [
    "# вставить код сюда"
   ]
  },
  {
   "cell_type": "markdown",
   "metadata": {},
   "source": [
    "Ответ: <span style=\"color:red\">#впишите сюда</span>"
   ]
  },
  {
   "cell_type": "markdown",
   "metadata": {},
   "source": [
    "#### Постройте диаграмму рассеивания между платформами и жанрами. Размер точки соответствует объему продаж. \n",
    "\n",
    "Пример:\n",
    "![gr](img/gr.png)"
   ]
  },
  {
   "cell_type": "code",
   "execution_count": null,
   "metadata": {},
   "outputs": [],
   "source": [
    "# вставить код сюда"
   ]
  },
  {
   "cell_type": "markdown",
   "metadata": {},
   "source": [
    "#### Постройте линейный график объемов продаж шутеров в Японии по годам. Какой год был самым прибыльным?"
   ]
  },
  {
   "cell_type": "code",
   "execution_count": null,
   "metadata": {},
   "outputs": [],
   "source": [
    "# вставить код сюда"
   ]
  },
  {
   "cell_type": "markdown",
   "metadata": {},
   "source": [
    "Ответ: <span style=\"color:red\">#впишите сюда</span>"
   ]
  },
  {
   "cell_type": "markdown",
   "metadata": {},
   "source": [
    "#### Какие игры являются самыми старыми?"
   ]
  },
  {
   "cell_type": "code",
   "execution_count": null,
   "metadata": {},
   "outputs": [],
   "source": [
    "# вставить код сюда"
   ]
  },
  {
   "cell_type": "markdown",
   "metadata": {},
   "source": [
    "Ответ: <span style=\"color:red\">#впишите сюда</span>"
   ]
  },
  {
   "cell_type": "markdown",
   "metadata": {},
   "source": [
    "#### Сколько шутеров было выпущено в 2003 году?"
   ]
  },
  {
   "cell_type": "code",
   "execution_count": null,
   "metadata": {},
   "outputs": [],
   "source": [
    "# вставить код сюда"
   ]
  },
  {
   "cell_type": "markdown",
   "metadata": {},
   "source": [
    "Ответ: <span style=\"color:red\">#впишите сюда</span>"
   ]
  }
 ],
 "metadata": {
  "kernelspec": {
   "display_name": "Python 3 (ipykernel)",
   "language": "python",
   "name": "python3"
  },
  "language_info": {
   "codemirror_mode": {
    "name": "ipython",
    "version": 3
   },
   "file_extension": ".py",
   "mimetype": "text/x-python",
   "name": "python",
   "nbconvert_exporter": "python",
   "pygments_lexer": "ipython3",
   "version": "3.11.6"
  }
 },
 "nbformat": 4,
 "nbformat_minor": 4
}
